{
 "cells": [
  {
   "cell_type": "code",
   "execution_count": 1,
   "metadata": {},
   "outputs": [
    {
     "data": {
      "text/plain": [
       "'French_France.1252'"
      ]
     },
     "execution_count": 1,
     "metadata": {},
     "output_type": "execute_result"
    }
   ],
   "source": [
    "import numpy as np\n",
    "from enum import Enum\n",
    "from copy import deepcopy\n",
    "from pathlib import Path\n",
    "from tqdm import tqdm\n",
    "import os\n",
    "import locale\n",
    "locale.setlocale(locale.LC_ALL, '')"
   ]
  },
  {
   "cell_type": "markdown",
   "metadata": {},
   "source": [
    "# Helper Function\n",
    "## From viewer.py"
   ]
  },
  {
   "cell_type": "code",
   "execution_count": 2,
   "metadata": {},
   "outputs": [],
   "source": [
    "HOUSE_B = 250\n",
    "HOUSE_U = (750, 3000, 10000)\n",
    "HOUSING = (300, 500, 650, 750)\n",
    "SHOP_B = 300\n",
    "SHOP_U = (2500, 10000, 50000)\n",
    "INCOME = (7, 8, 9, 10)\n",
    "ATTRACTION_B = 10000\n",
    "ATTRACTION_U = (5000, 10000, 45000)\n",
    "ATTRACTIVITY = (500, 1000, 1300, 1500)"
   ]
  },
  {
   "cell_type": "code",
   "execution_count": 3,
   "metadata": {},
   "outputs": [],
   "source": [
    "class Biome(Enum):\n",
    "    SEA = 0\n",
    "    MOUNTAIN = 1\n",
    "    PLAIN = 2\n",
    "\n",
    "class Building(Enum):\n",
    "    NONE = 0\n",
    "    ATTRACTION = 1\n",
    "    HOUSE = 2\n",
    "    SHOP = 3\n",
    "class Tile:\n",
    "    def __init__(self, biome):\n",
    "        self.biome = biome\n",
    "        self.building = Building.NONE\n",
    "        self.lvl = 0"
   ]
  },
  {
   "cell_type": "code",
   "execution_count": 4,
   "metadata": {},
   "outputs": [],
   "source": [
    "def parser(path):\n",
    "    f = open(path, \"r\")\n",
    "    (rounds, money, h, w) = map(int, f.readline().split())\n",
    "    carte = [ [None] * w for i in range(h) ]\n",
    "    for i in range(h):\n",
    "        line = f.readline()\n",
    "        for j in range(w):\n",
    "            carte[i][j] = Tile(Biome(int(line[j])))\n",
    "    actions = []\n",
    "    for i in range(rounds):\n",
    "        line = f.readline()\n",
    "        cur = []\n",
    "        for act in line.split('|')[:-1]:\n",
    "            cur.append(act.split())\n",
    "        actions.append(cur)\n",
    "    f.close()\n",
    "    return (rounds, money, carte, actions)"
   ]
  },
  {
   "cell_type": "code",
   "execution_count": 5,
   "metadata": {},
   "outputs": [],
   "source": [
    "def build(i, j, t, carte, money):\n",
    "    if (i < 0 or i >= len(carte) or j < 0 or j >= len(carte[0]) \\\n",
    "        or carte[i][j].biome != Biome.PLAIN or carte[i][j].building != Building.NONE):\n",
    "        raise Exception(\"build failed\")\n",
    "    carte[i][j].building = t\n",
    "    if t == Building.ATTRACTION:\n",
    "        money -= ATTRACTION_B\n",
    "    elif t == Building.HOUSE:\n",
    "        money -= HOUSE_B\n",
    "    else:\n",
    "        money -= SHOP_B\n",
    "    if money < 0:\n",
    "        print(i, j, t, money)\n",
    "        raise Exception(\"build failed\")\n",
    "    return money\n",
    "\n",
    "def upgrade(i, j, carte, money):\n",
    "    if (i < 0 or i >= len(carte) or j < 0 or j >= len(carte[0]) or carte[i][j].biome != Biome.PLAIN \\\n",
    "            or carte[i][j].building == Building.NONE or carte[i][j].lvl == 3):\n",
    "        raise Exception(\"upgrade failed\")\n",
    "    lvl = carte[i][j].lvl\n",
    "    t = carte[i][j].building\n",
    "    if t == Building.ATTRACTION:\n",
    "        money -= ATTRACTION_U[lvl]\n",
    "    elif t == Building.HOUSE:\n",
    "        money -= HOUSE_U[lvl]\n",
    "    else:\n",
    "        money -= SHOP_U[lvl]\n",
    "    if money < 0:\n",
    "        raise Exception(\"upgrade failed\")\n",
    "    carte[i][j].lvl += 1\n",
    "    return money\n",
    "\n",
    "def destroy(i, j, carte):\n",
    "    if (i < 0 or i >= len(carte) or j < 0 or j >= len(carte[0]) \\\n",
    "        or carte[i][j].biome != Biome.PLAIN or carte[i][j].building == Building.NONE):\n",
    "        raise Exception(\"destroy failed\")\n",
    "    carte[i][j].lvl = 0\n",
    "    carte[i][j].building = Building.NONE\n",
    "\n",
    "def housing(carte):\n",
    "    h = 0\n",
    "    for l in carte:\n",
    "        for b in l:\n",
    "            if b.building == Building.HOUSE:\n",
    "                h += HOUSING[b.lvl]\n",
    "    return h\n",
    "\n",
    "def attractivity(carte):\n",
    "    a = 0\n",
    "    for l in carte:\n",
    "        for b in l:\n",
    "            if b.building == Building.ATTRACTION:\n",
    "                a += ATTRACTIVITY[b.lvl]\n",
    "    return a\n",
    "\n",
    "def income(pop, carte):\n",
    "    i = 0\n",
    "    for l in carte:\n",
    "        for b in l:\n",
    "            if b.building == Building.SHOP:\n",
    "                i += pop * INCOME[b.lvl] // 100\n",
    "    return i\n",
    "\n",
    "def update(carte):\n",
    "    return income(min(attractivity(carte), housing(carte)), carte)"
   ]
  },
  {
   "cell_type": "code",
   "execution_count": 6,
   "metadata": {},
   "outputs": [],
   "source": [
    "#Unused\n",
    "def simulator(path):\n",
    "    (rounds, money, carte, actions) = parser(path)\n",
    "    score = 0\n",
    "    states = [(money, 0)]\n",
    "    for i in range(len(actions)):\n",
    "        carte = deepcopy(carte)\n",
    "        for action in actions[i]:\n",
    "            if action[0] == 'B':\n",
    "                money = build(int(action[2]), int(action[3]), Building(int(action[1])), carte, money)\n",
    "            elif action[0] == 'U':\n",
    "                money = upgrade(int(action[1]), int(action[2]), carte, money)\n",
    "            elif action[0] == 'D':\n",
    "                destroy(int(action[1]), int(action[2]), carte)\n",
    "        income = update(carte)\n",
    "        score += income\n",
    "        money += income\n",
    "        states.append((money, score))\n",
    "    return states"
   ]
  },
  {
   "cell_type": "markdown",
   "metadata": {},
   "source": [
    "## Other"
   ]
  },
  {
   "cell_type": "code",
   "execution_count": 7,
   "metadata": {},
   "outputs": [],
   "source": [
    "def count_buildable_places(carte):  # Sum up all buildable places\n",
    "    count = 0\n",
    "    for col in carte:\n",
    "        for tile in col:\n",
    "            if tile.biome == Biome.PLAIN and tile.building == Building.NONE:\n",
    "                count += 1\n",
    "    return count\n",
    "\n",
    "from time import gmtime, strftime\n",
    "\n",
    "\n",
    "def save_weight(score, mat):\n",
    "    filename = '{}-{}.ia'.format(score, strftime(\"%Y-%m-%d-%H-%M-%S\", gmtime()))\n",
    "    with open(filename, 'wb+') as f:\n",
    "        header = \"{} {}\\n\".format(mat.shape[0], mat.shape[1])\n",
    "        f.write(header.encode('utf-8'))\n",
    "        np.savetxt(f, mat, fmt='%.8f')\n",
    "\n",
    "def load_weights(directory):\n",
    "    samplePop = []\n",
    "    for file in os.listdir(directory):\n",
    "        if file != '.DS_Store':\n",
    "            f = open(directory+'/'+file, 'rb')\n",
    "            samplePop.append(np.loadtxt(f))\n",
    "\n",
    "    np.save('gen3-{}.npy'.format(29), np.array(samplePop))"
   ]
  },
  {
   "cell_type": "markdown",
   "metadata": {},
   "source": [
    "# Building Neural Net (1 layer)\n"
   ]
  },
  {
   "cell_type": "code",
   "execution_count": 8,
   "metadata": {},
   "outputs": [],
   "source": [
    "# GLOBAL VARIABLE\n",
    "\n",
    "buildings = [Building.HOUSE, Building.SHOP, Building.ATTRACTION]\n",
    "prices = [HOUSE_B, SHOP_B, ATTRACTION_B]\n",
    "prices_up = [HOUSE_U, SHOP_U, ATTRACTION_U]\n",
    "\n",
    "is_full = False\n",
    "lvl_upgrade = [0,0,0]\n",
    "\n",
    "NUM_OUTPUT = 6\n",
    "NUM_INPUT = 5\n",
    "\n",
    "initial_money = 0\n",
    "max_buildable_tile = 0\n",
    "\n",
    "\n"
   ]
  },
  {
   "cell_type": "code",
   "execution_count": 9,
   "metadata": {},
   "outputs": [],
   "source": [
    "def random_init(inp, out, mu, sigma):  # Init random weights for the population\n",
    "    return (np.random.normal(mu, sigma, size=(inp, out))) # Tuning can be done\n",
    "\n",
    "def format_input(money, income, carte, builts): # Input for the neural net  [see C# source code MyBot.cs]\n",
    "    s = np.sum(builts)\n",
    "    \n",
    "    global lvl_upgrade\n",
    "    global is_full\n",
    "    if s == max_buildable_tile:\n",
    "        is_full = True\n",
    "    else:\n",
    "        lvl_upgrade =  [0]*3\n",
    "    if s == 0:\n",
    "        return np.array([money/initial_money, income/initial_money, 1/3,1/3,1/3])\n",
    "    return np.array([money/initial_money, income/initial_money, builts[0]/s, builts[1]/s, builts[2]/s])\n",
    "\n",
    "def try_build(t, nb, money, carte, builts):# built anywhere possible (since position doesnt matter) [MyBot.cs]\n",
    "    n = 0\n",
    "    k = len(carte)\n",
    "    l = len(carte[0])\n",
    "    while money > prices[t] and n < nb:    \n",
    "        for i in range(0, k):\n",
    "            built = False\n",
    "            for j in range(0, l):\n",
    "                if carte[i][j].biome == Biome.PLAIN and carte[i][j].building == Building.NONE:\n",
    "                    carte[i][j].building = buildings[t]\n",
    "                    money -= prices[t]\n",
    "                    #print (\"B \", t, i, j, money)\n",
    "                    builts[t] += 1\n",
    "                    \n",
    "                    built = True\n",
    "                    break\n",
    "            if built: break\n",
    "        \n",
    "        n += 1\n",
    "    return money\n",
    "\n",
    "\n",
    "def try_upgrade(t, nb, money, carte): # upgrade building [MyBot.cs]\n",
    "    n = 0\n",
    "    k = len(carte)\n",
    "    l = len(carte[0])\n",
    "    #lvl = 0 # first upgrade every building from lvl 0 -> 1\n",
    "    if lvl_upgrade[t] > 2:  # Avoid looping through the entire map 3 times for nothing\n",
    "        return False\n",
    "    while money > prices_up[t][lvl_upgrade[t]] and n < nb: \n",
    "        for i in range(0, k):\n",
    "            upgraded = False\n",
    "            for j in range(0, l):\n",
    "                if carte[i][j].building == buildings[t] and carte[i][j].lvl == lvl_upgrade[t]:\n",
    "                    carte[i][j].lvl += 1\n",
    "                    money -= prices_up[t][lvl_upgrade[t]]\n",
    "                    #print (\"U \", t,lvl, i, j, money)\n",
    "\n",
    "                    upgraded = True\n",
    "                    break\n",
    "            if upgraded: break\n",
    "        if upgraded: \n",
    "            n += 1\n",
    "        elif lvl_upgrade[t] < 2:\n",
    "            #lvl += 1\n",
    "            lvl_upgrade[t] += 1\n",
    "        else: \n",
    "            break\n",
    "    return money\n",
    "\n",
    "def activation_func(output, money, carte, builts): # Interprete the output of the neural net  [MyBot.cs]\n",
    "    for i in range(0, NUM_OUTPUT//2): # Build\n",
    "        y = int(output[i])\n",
    "        if y > 0 and money > prices[i] and not is_full:  # ~ rect linear\n",
    "            #print(y, i)\n",
    "            money = try_build(i, y, money, carte, builts)\n",
    "    for i in range(NUM_OUTPUT//2, NUM_OUTPUT): # Upgrade\n",
    "        y = int(output[i])\n",
    "        if y > 0 and money > prices_up[i%3][0]:\n",
    "            #print(y, i)\n",
    "            money = try_upgrade(i%3, y, money, carte)\n",
    "    return money\n",
    "\n",
    "def play(w):\n",
    "    rounds, money, _carte, actions = parser('bot.out') # Getting initial data from bot.out\n",
    "    carte = _carte[:]\n",
    "    income = 0\n",
    "    global initial_money\n",
    "    global max_buildable_tile\n",
    "    \n",
    "    #Optimizing try_build and try_upgrade\n",
    "    global is_full\n",
    "    global lvl_upgrade\n",
    "    is_full = False\n",
    "    lvl_upgrade = [0,0,0] \n",
    "    \n",
    "    max_buildable_tile = count_buildable_places(carte)\n",
    "    \n",
    "    builts = [0]*3 # Nombre de batiments construits par l'IA\n",
    "    \n",
    "    initial_money = money\n",
    "\n",
    "    score = 0\n",
    "    for r in range(0, rounds):\n",
    "        #print (r)\n",
    "        X = format_input(money, income,  carte, builts)[:]\n",
    "        Y = np.dot(X, w)# + b\n",
    "        Y = np.transpose(Y)\n",
    "        #print (Y)\n",
    "        \n",
    "        money = activation_func(Y, money, carte, builts)\n",
    "        income = update(carte)\n",
    "        #print(r+1, money, income)\n",
    "        money += income\n",
    "        score += income\n",
    "       \n",
    "    return score"
   ]
  },
  {
   "cell_type": "markdown",
   "metadata": {},
   "source": [
    "## Evolutionnary Algo"
   ]
  },
  {
   "cell_type": "code",
   "execution_count": 10,
   "metadata": {},
   "outputs": [],
   "source": [
    "def board(logs, number_survive):  # Show best score each generation and select the more performing weights\n",
    "    logs.sort(key=lambda tup: tup[0])\n",
    "    zeros = 0\n",
    "    moy = 0\n",
    "    l = len(logs)\n",
    "    bests = []\n",
    "    print(\"best : {0:n}\".format(logs[l-1][0]))\n",
    "    for i in range(0, l):\n",
    "        if logs[i][0] == 0:\n",
    "            zeros += 1\n",
    "        if i > (l-number_survive):\n",
    "            bests.append(logs[i][1])\n",
    "        moy += logs[i][0]\n",
    "    print(\"moy :\", moy/l)\n",
    "    print(\"zero prop : {0:.0f}%\".format(zeros/l*100))\n",
    "    return bests\n",
    "\n",
    "def breed(parents, nb_pop): # Create genetical (weights) children for the selected parents\n",
    "    L = len(parents)\n",
    "    child = []\n",
    "    s = parents[0].shape\n",
    "    for i in range(0, nb_pop-L):\n",
    "        index = np.random.choice(L, (2))\n",
    "        child.append( np.choose(np.random.choice(2, s), choices=[parents[index[0]], parents[index[1]]] ) )\n",
    "    child.extend(parents)\n",
    "    return child\n",
    "\n",
    "def mutate(pop, mult, rare): # Randomly change neural net weights in the population\n",
    "    L = len(pop)\n",
    "    s = pop[0].shape\n",
    "    for p in range(0, L):\n",
    "        if np.random.randint(rare) == 0:\n",
    "            i = np.random.randint(s[0])\n",
    "            j = np.random.randint(s[1])\n",
    "            pop[p][i][j] += (np.random.random()-0.5)*mult\n",
    "    return pop\n",
    "            "
   ]
  },
  {
   "cell_type": "markdown",
   "metadata": {},
   "source": [
    "## First try : < 1 000 000\n",
    "\n",
    "| Input   | Output (To Build) |\n",
    "|---------|-------------------|\n",
    "| Money   |    Houses         |\n",
    "|Income   |    Shops          |\n",
    "|Nb empty |    Attractions    |\n",
    "\n",
    "\n",
    "## Second try : Normalizing data\n",
    "\n",
    "\n",
    "\n",
    "* Using building proportion : `~9 000 000`\n",
    "<br/>\n",
    "$$Norm(money)=\\frac{money}{initial\\ money}$$\n",
    "<br/>\n",
    "\n",
    "<br/>\n",
    "$$Norm(nb\\ houses)=\\frac{nb\\ houses}{nb\\ buildings}$$\n",
    "<br/>\n",
    "\n",
    "| Input   | Output (To Build) |\n",
    "|---------|-------------------|\n",
    "| Money   |    Houses         |\n",
    "|Income   |    Shops          |\n",
    "|Nb houses|    Attractions    |\n",
    "|Nb shops |\n",
    "|Nb Attrac|\n",
    "\n",
    "* Adding Upgrade : `~29 000 000`\n",
    "\n",
    "| Input   | Output            |\n",
    "|---------|-------------------|\n",
    "| Money   |    Houses  (Build)|\n",
    "|Income   |    Shops   (Build)|\n",
    "|Nb houses|Attractions (Build)|\n",
    "|Nb shops |    Houses  (Up)   |\n",
    "|Nb Attrac|    Shops   (Up)   |\n",
    "|         |Attractions (Up)   |\n"
   ]
  },
  {
   "cell_type": "code",
   "execution_count": 11,
   "metadata": {},
   "outputs": [],
   "source": [
    "def genetic_algo(n, nb_pop, mutate_rare, mutate_mult, keep, mu, sigma): # Training\n",
    "    \n",
    "    pop = []\n",
    "    maX_log = []\n",
    "    for gen in range(0, n):\n",
    "        logs = []\n",
    "        maX = 0\n",
    "        maX_W = []\n",
    "        pop_len = len(pop)\n",
    "        \n",
    "        # Building\n",
    "        pop.extend([random_init(NUM_INPUT, NUM_OUTPUT, mu, sigma)[:] for i in range(0, nb_pop-pop_len)])\n",
    "        \n",
    "        # Mutating\n",
    "        pop = mutate(pop, mutate_mult, mutate_rare)[:]\n",
    "        for i in tqdm(range(0, nb_pop)):\n",
    "            p = pop[i]\n",
    "            score = play(p)\n",
    "            logs.append((score, p[:]))\n",
    "            if score > maX:\n",
    "                maX = score\n",
    "                maX_W = p[:]\n",
    "        best = board(logs, keep)[:] # Selecting\n",
    "        maX_log.append(maX)\n",
    "        \n",
    "        # Saving\n",
    "        if gen == n-1:\n",
    "            np.save('gen-{}.npy'.format(maX), best) # Saving Batch\n",
    "            break\n",
    "        \n",
    "        # Breeding\n",
    "        pop = breed(best, nb_pop)[:]\n",
    "        \n",
    "    return maX, maX_W, maX_log"
   ]
  },
  {
   "cell_type": "code",
   "execution_count": 12,
   "metadata": {},
   "outputs": [
    {
     "name": "stderr",
     "output_type": "stream",
     "text": [
      "100%|████████████████████████████████████████████████████████████████████████████████| 500/500 [00:08<00:00, 61.81it/s]\n"
     ]
    },
    {
     "name": "stdout",
     "output_type": "stream",
     "text": [
      "best : 154 616\n",
      "moy : 1418.044\n",
      "zero prop : 93%\n"
     ]
    },
    {
     "name": "stderr",
     "output_type": "stream",
     "text": [
      "100%|████████████████████████████████████████████████████████████████████████████████| 500/500 [00:08<00:00, 59.65it/s]\n"
     ]
    },
    {
     "name": "stdout",
     "output_type": "stream",
     "text": [
      "best : 9 312 660\n",
      "moy : 140017.786\n",
      "zero prop : 48%\n"
     ]
    },
    {
     "name": "stderr",
     "output_type": "stream",
     "text": [
      "100%|████████████████████████████████████████████████████████████████████████████████| 500/500 [00:12<00:00, 41.51it/s]\n"
     ]
    },
    {
     "name": "stdout",
     "output_type": "stream",
     "text": [
      "best : 16 811 739\n",
      "moy : 1667115.042\n",
      "zero prop : 38%\n"
     ]
    },
    {
     "name": "stderr",
     "output_type": "stream",
     "text": [
      "100%|████████████████████████████████████████████████████████████████████████████████| 500/500 [00:15<00:00, 32.42it/s]\n"
     ]
    },
    {
     "name": "stdout",
     "output_type": "stream",
     "text": [
      "best : 25 226 714\n",
      "moy : 5718738.828\n",
      "zero prop : 36%\n"
     ]
    },
    {
     "name": "stderr",
     "output_type": "stream",
     "text": [
      "100%|████████████████████████████████████████████████████████████████████████████████| 500/500 [00:18<00:00, 26.66it/s]\n"
     ]
    },
    {
     "name": "stdout",
     "output_type": "stream",
     "text": [
      "best : 25 226 714\n",
      "moy : 12153966.868\n",
      "zero prop : 28%\n"
     ]
    },
    {
     "name": "stderr",
     "output_type": "stream",
     "text": [
      "100%|████████████████████████████████████████████████████████████████████████████████| 500/500 [00:26<00:00, 19.75it/s]\n"
     ]
    },
    {
     "name": "stdout",
     "output_type": "stream",
     "text": [
      "best : 26 219 008\n",
      "moy : 24768371.486\n",
      "zero prop : 0%\n"
     ]
    },
    {
     "name": "stderr",
     "output_type": "stream",
     "text": [
      "100%|████████████████████████████████████████████████████████████████████████████████| 500/500 [00:25<00:00, 19.67it/s]\n"
     ]
    },
    {
     "name": "stdout",
     "output_type": "stream",
     "text": [
      "best : 26 505 313\n",
      "moy : 25096334.216\n",
      "zero prop : 0%\n"
     ]
    },
    {
     "name": "stderr",
     "output_type": "stream",
     "text": [
      "100%|████████████████████████████████████████████████████████████████████████████████| 500/500 [00:25<00:00, 19.58it/s]\n"
     ]
    },
    {
     "name": "stdout",
     "output_type": "stream",
     "text": [
      "best : 27 337 906\n",
      "moy : 25077498.88\n",
      "zero prop : 1%\n"
     ]
    },
    {
     "name": "stderr",
     "output_type": "stream",
     "text": [
      "100%|████████████████████████████████████████████████████████████████████████████████| 500/500 [00:25<00:00, 19.68it/s]\n"
     ]
    },
    {
     "name": "stdout",
     "output_type": "stream",
     "text": [
      "best : 27 337 906\n",
      "moy : 25676826.09\n",
      "zero prop : 1%\n"
     ]
    },
    {
     "name": "stderr",
     "output_type": "stream",
     "text": [
      "100%|████████████████████████████████████████████████████████████████████████████████| 500/500 [00:25<00:00, 19.58it/s]\n"
     ]
    },
    {
     "name": "stdout",
     "output_type": "stream",
     "text": [
      "best : 27 337 906\n",
      "moy : 26620092.936\n",
      "zero prop : 1%\n"
     ]
    },
    {
     "name": "stderr",
     "output_type": "stream",
     "text": [
      "100%|████████████████████████████████████████████████████████████████████████████████| 500/500 [00:26<00:00, 18.57it/s]\n"
     ]
    },
    {
     "name": "stdout",
     "output_type": "stream",
     "text": [
      "best : 27 348 660\n",
      "moy : 26863106.274\n",
      "zero prop : 0%\n"
     ]
    },
    {
     "name": "stderr",
     "output_type": "stream",
     "text": [
      "100%|████████████████████████████████████████████████████████████████████████████████| 500/500 [00:28<00:00, 17.30it/s]\n"
     ]
    },
    {
     "name": "stdout",
     "output_type": "stream",
     "text": [
      "best : 27 348 840\n",
      "moy : 26774804.828\n",
      "zero prop : 1%\n"
     ]
    },
    {
     "name": "stderr",
     "output_type": "stream",
     "text": [
      "100%|████████████████████████████████████████████████████████████████████████████████| 500/500 [00:25<00:00, 19.36it/s]\n"
     ]
    },
    {
     "name": "stdout",
     "output_type": "stream",
     "text": [
      "best : 27 348 840\n",
      "moy : 26850137.964\n",
      "zero prop : 0%\n"
     ]
    },
    {
     "name": "stderr",
     "output_type": "stream",
     "text": [
      "100%|████████████████████████████████████████████████████████████████████████████████| 500/500 [00:25<00:00, 19.41it/s]\n"
     ]
    },
    {
     "name": "stdout",
     "output_type": "stream",
     "text": [
      "best : 27 350 064\n",
      "moy : 26746015.7\n",
      "zero prop : 1%\n"
     ]
    },
    {
     "name": "stderr",
     "output_type": "stream",
     "text": [
      "100%|████████████████████████████████████████████████████████████████████████████████| 500/500 [00:25<00:00, 19.60it/s]\n"
     ]
    },
    {
     "name": "stdout",
     "output_type": "stream",
     "text": [
      "best : 27 350 064\n",
      "moy : 26926306.996\n",
      "zero prop : 0%\n"
     ]
    },
    {
     "name": "stderr",
     "output_type": "stream",
     "text": [
      "100%|████████████████████████████████████████████████████████████████████████████████| 500/500 [00:25<00:00, 19.76it/s]\n"
     ]
    },
    {
     "name": "stdout",
     "output_type": "stream",
     "text": [
      "best : 27 350 927\n",
      "moy : 26520830.626\n",
      "zero prop : 1%\n"
     ]
    },
    {
     "name": "stderr",
     "output_type": "stream",
     "text": [
      "100%|████████████████████████████████████████████████████████████████████████████████| 500/500 [00:25<00:00, 19.47it/s]\n"
     ]
    },
    {
     "name": "stdout",
     "output_type": "stream",
     "text": [
      "best : 27 355 525\n",
      "moy : 26829270.186\n",
      "zero prop : 0%\n"
     ]
    },
    {
     "name": "stderr",
     "output_type": "stream",
     "text": [
      "100%|████████████████████████████████████████████████████████████████████████████████| 500/500 [00:25<00:00, 19.61it/s]\n"
     ]
    },
    {
     "name": "stdout",
     "output_type": "stream",
     "text": [
      "best : 27 355 525\n",
      "moy : 26993189.276\n",
      "zero prop : 0%\n"
     ]
    },
    {
     "name": "stderr",
     "output_type": "stream",
     "text": [
      "100%|████████████████████████████████████████████████████████████████████████████████| 500/500 [00:25<00:00, 19.33it/s]\n"
     ]
    },
    {
     "name": "stdout",
     "output_type": "stream",
     "text": [
      "best : 27 357 209\n",
      "moy : 26877719.546\n",
      "zero prop : 0%\n"
     ]
    },
    {
     "name": "stderr",
     "output_type": "stream",
     "text": [
      "100%|████████████████████████████████████████████████████████████████████████████████| 500/500 [00:25<00:00, 19.64it/s]\n"
     ]
    },
    {
     "name": "stdout",
     "output_type": "stream",
     "text": [
      "best : 27 357 209\n",
      "moy : 26823186.124\n",
      "zero prop : 1%\n"
     ]
    }
   ],
   "source": [
    "s, w, logs = genetic_algo(20, 500, 6, 2.0, 10, 0.5, 2.25)"
   ]
  }
 ],
 "metadata": {
  "kernelspec": {
   "display_name": "Python 3",
   "language": "python",
   "name": "python3"
  },
  "language_info": {
   "codemirror_mode": {
    "name": "ipython",
    "version": 3
   },
   "file_extension": ".py",
   "mimetype": "text/x-python",
   "name": "python",
   "nbconvert_exporter": "python",
   "pygments_lexer": "ipython3",
   "version": "3.5.2"
  }
 },
 "nbformat": 4,
 "nbformat_minor": 2
}
